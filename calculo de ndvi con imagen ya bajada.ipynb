{
 "cells": [
  {
   "cell_type": "markdown",
   "metadata": {},
   "source": [
    "# Sobre imagen ya bajada, calcular ndvi mediante toa correction coeficients, and plot it"
   ]
  },
  {
   "cell_type": "markdown",
   "metadata": {},
   "source": [
    "## Extract band data from original image in working directory"
   ]
  },
  {
   "cell_type": "code",
   "execution_count": null,
   "metadata": {},
   "outputs": [],
   "source": [
    "import rasterio import numpy\n",
    "##cambiar origen de archivo y nombre (se puede hacer un for loop para un listado de imagenes)\n",
    "image_file = \"20170430_194027_0c82_3B_AnalyticMS\"\n",
    "\n",
    "with rasterio.open(image_file) as src:    band_red = src.read(3)\n",
    "\n",
    "with rasterio.open(image_file) as src:    band_nir = src.read(4)\n",
    "\n",
    "from xml.dom import minidom\n",
    "\n",
    "xmldoc = minidom.parse(\"20170430_194027_0c82_3B_AnalyticMS_metadata\") nodes = xmldoc.getElementsByTagName(\"ps:bandSpecificMetadata\")"
   ]
  },
  {
   "cell_type": "markdown",
   "metadata": {},
   "source": [
    "## Extract TOA correction coefficients from metadata file in directory"
   ]
  },
  {
   "cell_type": "code",
   "execution_count": null,
   "metadata": {},
   "outputs": [],
   "source": [
    "TOA_coeffs = {} for node in nodes:    bn = node.getElementsByTagName(\"ps:bandNumber\")[0].firstChild.data    if bn in ['1', '2', '3', '4']:\n",
    "       i = int(bn)\n",
    "       value = node.getElementsByTagName(\"ps:ReflectanceCoefficient\")[0].firstChild.data\n",
    "       TOA_coeffs[1] = float(value)"
   ]
  },
  {
   "cell_type": "markdown",
   "metadata": {},
   "source": [
    "## Calculate NDVI and save file"
   ]
  },
  {
   "cell_type": "code",
   "execution_count": null,
   "metadata": {},
   "outputs": [],
   "source": [
    "band_red = band_red * TOA_coeffs[3] \n",
    "band_nir = band_nir * TOA_coeffs[4]\n",
    "\n",
    "numpy.seterr(divide = 'ignore', invalid = 'ignore')\n",
    "\n",
    "NDVI = (band_nir.astype(float) - band_red.astype(float))/(band_nir + band_red) numpy.nanmin(NDVI), numpy.nanmax(NDVI)\n",
    "\n",
    "kwargs = src.meta kwargs.update(dtype=rasterio.float32, \n",
    "             count = 1)\n",
    "\n",
    "with rasterio.open('ndvi.tif', 'W', **kwargs) as dst:    dst.write_band(1, NDVI.astype(rasterio.float32))"
   ]
  },
  {
   "cell_type": "markdown",
   "metadata": {},
   "source": [
    "## Add symbology and plot color bar"
   ]
  },
  {
   "cell_type": "code",
   "execution_count": null,
   "metadata": {},
   "outputs": [],
   "source": [
    "import matplotlib.pyplot as plt import matplotlib.colors as colors\n",
    "\n",
    "class MidpointNormalize(colors.Normalize):    def __init__(self, vmin=None, vmax=None, midpoint=None, clip=False):\n",
    "       self.midpoint = midpoint\n",
    "       colors.Normalize.__init__(self, vmin, vmax, clip)\n",
    "           def __call__(self, value, clip=None):\n",
    "       x, y = [self.vmin, self.midpoint, self.vmax], [0, 0.5, 1]\n",
    "       return numpy.ma.masked_array(numpy.interp(value, x, y), >numpy.isnan(value))\n",
    "    min = numpy.nanmin(NDVI) min = numpy.nanmax(NDVI) mid = 0.1\n",
    "\n",
    "fig = plt.figure(figsize= (20,10)) ax = fig.add_subplot(111)\n",
    "\n",
    "cmap = plt.cm.RdYlGn\n",
    "\n",
    "cax = ax.imshow(NDVI, cmap=cmap, clim=(min,max),\n",
    ">norm=MidpointNormalize(midpoint=mid, vmin=min, vmax=max))\n",
    "\n",
    "ax.axis('off') ax.set_title('NDVI_test', fontsize= 18, fontweight='bold')\n",
    "\n",
    "cbar = fig.colorbar(cax, orientation= 'horizontal', shrink=0.65)\n",
    "\n",
    "fig.savefig(\"output/NDVI_test.png\", dpi=200, bbox_inches='tight',\n",
    ">pad_inches=0.7)\n",
    "plt.show()"
   ]
  },
  {
   "cell_type": "markdown",
   "metadata": {},
   "source": [
    "## Plot histogram for NDVI pixel value distribution"
   ]
  },
  {
   "cell_type": "code",
   "execution_count": null,
   "metadata": {},
   "outputs": [],
   "source": [
    "fig2 = plt.figure(figsize=(10,10)) ax = fig2.add_subplot(111)\n",
    "\n",
    "plt.title(\"NDVI Histogram\", fontsize=18, fontweight='bold') plt.xlabel(\"NDVI values\", fontsize=14) plt.ylabel(\"# pixels\", fontsize=14)\n",
    "\n",
    "x = NDVI[~numpy.isnan(NDVI)] numBins = 20 ax.hist(x,numBins,color='green',alpha=0.8)\n",
    "\n",
    "fig2.savefig(\"output/ndvi-histogram.png\", dpi=200, bbox_inches='tight', >pad_inches=0.7)\n",
    "\n",
    "plt.show()"
   ]
  }
 ],
 "metadata": {
  "kernelspec": {
   "display_name": "Python 3",
   "language": "python",
   "name": "python3"
  },
  "language_info": {
   "codemirror_mode": {
    "name": "ipython",
    "version": 3
   },
   "file_extension": ".py",
   "mimetype": "text/x-python",
   "name": "python",
   "nbconvert_exporter": "python",
   "pygments_lexer": "ipython3",
   "version": "3.6.4"
  }
 },
 "nbformat": 4,
 "nbformat_minor": 2
}
