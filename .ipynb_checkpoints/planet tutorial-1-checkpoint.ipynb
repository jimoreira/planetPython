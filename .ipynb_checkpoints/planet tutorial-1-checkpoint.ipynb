{
 "cells": [
  {
   "cell_type": "markdown",
   "metadata": {},
   "source": [
    "## planet tutorial para  bajar imagenes\n",
    "hasta el momento no clipea, baja las imagenes de a una, y de a un asset a la vez"
   ]
  },
  {
   "cell_type": "markdown",
   "metadata": {},
   "source": [
    "Primero configurar los paquetes necesarios y aplicar la api-key "
   ]
  },
  {
   "cell_type": "code",
   "execution_count": 1,
   "metadata": {},
   "outputs": [],
   "source": [
    "import os\n",
    "import json\n",
    "import requests\n",
    "from requests.auth import HTTPBasicAuth\n",
    "from tempfile import mkstemp\n",
    "import shutil\n",
    "import time\n",
    "from os.path import join\n",
    "from os import path, mkdir\n",
    "\n",
    "from datetime import datetime as dt\n",
    "from datetime import datetime, timedelta\n",
    "from planet import api\n",
    "from planet.api import filters\n",
    "client = api.ClientV1(api_key= 'e2bbb6fc3fc94e889cb2d6ee2ff78798')\n",
    "#os.environ['PL_API_KEY']='e2bbb6fc3fc94e889cb2d6ee2ff78798'\n",
    "#PLANET_API_KEY = os.getenv('PL_API_KEY')"
   ]
  },
  {
   "cell_type": "markdown",
   "metadata": {},
   "source": [
    "Paso 2, configurar los filros"
   ]
  },
  {
   "cell_type": "code",
   "execution_count": 3,
   "metadata": {},
   "outputs": [],
   "source": [
    "coordenadas_estanzuela = {\n",
    "  \"type\": \"Polygon\",\n",
    "  \"coordinates\": [\n",
    "          [\n",
    "              [\n",
    "              -57.30460166931152,\n",
    "              -33.232872481362676\n",
    "            ],\n",
    "            [\n",
    "              -57.25773811340332,\n",
    "              -33.232872481362676\n",
    "            ],\n",
    "            [\n",
    "              -57.25773811340332,\n",
    "              -33.19653763818525\n",
    "            ],\n",
    "            [\n",
    "              -57.30460166931152,\n",
    "              -33.19653763818525\n",
    "            ],\n",
    "            [\n",
    "              -57.30460166931152,\n",
    "              -33.232872481362676\n",
    "            ]\n",
    "          ]\n",
    "        ]\n",
    "}\n",
    "aoi = \"estanzuela\"\n",
    "\n",
    "# get images that overlap with our AOI\n",
    "geometry_filter = {\n",
    "  \"type\": \"GeometryFilter\",\n",
    "  \"field_name\": \"geometry\",\n",
    "  \"config\": coordenadas_estanzuela\n",
    "}\n",
    "\n",
    "\n",
    "# get images acquired within a date range\n",
    "date_range_filter = {\n",
    "  \"type\": \"DateRangeFilter\",\n",
    "  \"field_name\": \"acquired\",\n",
    "  \"config\": {\n",
    "    \"gte\": \"2017-12-29T00:00:00.000Z\",\n",
    "    \"lte\": \"2018-01-31T00:00:00.000Z\" \n",
    "  }\n",
    "}\n",
    "# only get images which have <50% cloud coverage\n",
    "cloud_cover_filter = {\n",
    "  \"type\": \"RangeFilter\",\n",
    "  \"field_name\": \"cloud_cover\",\n",
    "  \"config\": {\n",
    "    \"lte\": 0.1\n",
    "  }\n",
    "}\n",
    "\n",
    "# combine our geo, date, cloud filters\n",
    "combined_filter = {\n",
    "  \"type\": \"AndFilter\",\n",
    "  \"config\": [geometry_filter, date_range_filter, cloud_cover_filter]\n",
    "}"
   ]
  },
  {
   "cell_type": "markdown",
   "metadata": {},
   "source": [
    "Paso 3, hacer el \"request\" y definir carpeta destino"
   ]
  },
  {
   "cell_type": "code",
   "execution_count": 4,
   "metadata": {},
   "outputs": [],
   "source": [
    "item_type = \"PSScene4Band\"\n",
    "\n",
    "# API request object\n",
    "search_request = {\n",
    "  \"interval\": \"day\",\n",
    "  \"item_types\": [item_type],\n",
    "  \"filter\": combined_filter\n",
    "}\n",
    "\n",
    "DIR_archiv = \"D:\\\\OneDrive\\\\teleysig_javierMoreira\\\\TrabajoFinal\\\\Tesis\\\\seguimiento ndvi\\\\downloads\"\n",
    "DIR = join(DIR_archiv, item_type,aoi )\n",
    "if not os.path.exists(DIR):\n",
    "    mkdir(DIR)"
   ]
  },
  {
   "cell_type": "markdown",
   "metadata": {},
   "source": [
    "Paso 4, establecer la busqueda"
   ]
  },
  {
   "cell_type": "code",
   "execution_count": 15,
   "metadata": {},
   "outputs": [
    {
     "name": "stdout",
     "output_type": "stream",
     "text": [
      "20180130_131606_0f34 PSScene4Band\n",
      "20180130_131605_0f34 PSScene4Band\n",
      "20180129_131510_100a PSScene4Band\n",
      "20180129_131509_100a PSScene4Band\n",
      "20180128_131514_1029 PSScene4Band\n",
      "20180128_131513_1029 PSScene4Band\n"
     ]
    }
   ],
   "source": [
    "res = client.quick_search(search_request)\n",
    "for item in res.items_iter(6):\n",
    "    print (item['id'],item['properties']['item_type'])"
   ]
  },
  {
   "cell_type": "markdown",
   "metadata": {},
   "source": [
    "Paso 5, listar los \"asset\" para el item elegido"
   ]
  },
  {
   "cell_type": "code",
   "execution_count": 14,
   "metadata": {},
   "outputs": [
    {
     "name": "stdout",
     "output_type": "stream",
     "text": [
      "analytic\n",
      "20180128_131513_1029\n",
      "analytic_dn\n",
      "20180128_131513_1029\n",
      "analytic_dn_xml\n",
      "20180128_131513_1029\n",
      "analytic_sr\n",
      "20180128_131513_1029\n",
      "analytic_xml\n",
      "20180128_131513_1029\n",
      "basic_analytic\n",
      "20180128_131513_1029\n",
      "basic_analytic_dn\n",
      "20180128_131513_1029\n",
      "basic_analytic_dn_nitf\n",
      "20180128_131513_1029\n",
      "basic_analytic_dn_rpc\n",
      "20180128_131513_1029\n",
      "basic_analytic_dn_rpc_nitf\n",
      "20180128_131513_1029\n",
      "basic_analytic_dn_xml\n",
      "20180128_131513_1029\n",
      "basic_analytic_dn_xml_nitf\n",
      "20180128_131513_1029\n",
      "basic_analytic_nitf\n",
      "20180128_131513_1029\n",
      "basic_analytic_rpc\n",
      "20180128_131513_1029\n",
      "basic_analytic_rpc_nitf\n",
      "20180128_131513_1029\n",
      "basic_analytic_xml\n",
      "20180128_131513_1029\n",
      "basic_analytic_xml_nitf\n",
      "20180128_131513_1029\n",
      "basic_udm\n",
      "20180128_131513_1029\n",
      "udm\n",
      "20180128_131513_1029\n"
     ]
    },
    {
     "data": {
      "text/plain": [
       "202"
      ]
     },
     "execution_count": 14,
     "metadata": {},
     "output_type": "execute_result"
    }
   ],
   "source": [
    "assets = client.get_assets(item).get()\n",
    "for asset in sorted(assets.keys()):\n",
    "    print (asset)\n",
    "    print (item['id'])\n",
    "activation = client.activate(assets['analytic_sr'])  \n",
    "activation.response.status_code"
   ]
  },
  {
   "cell_type": "markdown",
   "metadata": {},
   "source": [
    "Paso 6, activar "
   ]
  },
  {
   "cell_type": "code",
   "execution_count": 15,
   "metadata": {},
   "outputs": [
    {
     "name": "stdout",
     "output_type": "stream",
     "text": [
      "...Still waiting for asset activation...\n",
      "...Still waiting for asset activation...\n",
      "...Still waiting for asset activation...\n",
      "...Still waiting for asset activation...\n",
      "...Still waiting for asset activation...\n",
      "...Still waiting for asset activation...\n",
      "...Still waiting for asset activation...\n",
      "...Still waiting for asset activation...\n",
      "...Still waiting for asset activation...\n",
      "...Still waiting for asset activation...\n",
      "...Still waiting for asset activation...\n",
      "...Still waiting for asset activation...\n",
      "...Still waiting for asset activation...\n",
      "...Still waiting for asset activation...\n",
      "...Still waiting for asset activation...\n",
      "...Still waiting for asset activation...\n",
      "...Still waiting for asset activation...\n",
      "...Still waiting for asset activation...\n",
      "...Still waiting for asset activation...\n",
      "...Still waiting for asset activation...\n",
      "...Still waiting for asset activation...\n",
      "...Still waiting for asset activation...\n",
      "...Still waiting for asset activation...\n",
      "...Still waiting for asset activation...\n",
      "...Still waiting for asset activation...\n",
      "...Still waiting for asset activation...\n",
      "...Still waiting for asset activation...\n",
      "...Still waiting for asset activation...\n",
      "...Still waiting for asset activation...\n",
      "...Still waiting for asset activation...\n",
      "...Still waiting for asset activation...\n",
      "...Still waiting for asset activation...\n",
      "...Still waiting for asset activation...\n",
      "...Still waiting for asset activation...\n",
      "...Still waiting for asset activation...\n",
      "...Still waiting for asset activation...\n",
      "...Still waiting for asset activation...\n",
      "...Still waiting for asset activation...\n",
      "...Still waiting for asset activation...\n",
      "...Still waiting for asset activation...\n",
      "...Still waiting for asset activation...\n",
      "...Still waiting for asset activation...\n",
      "...Still waiting for asset activation...\n",
      "...Still waiting for asset activation...\n",
      "...Still waiting for asset activation...\n",
      "...Still waiting for asset activation...\n",
      "...Still waiting for asset activation...\n",
      "Asset is active and ready to download\n"
     ]
    }
   ],
   "source": [
    "import time\n",
    "\n",
    "asset_activated = False\n",
    "\n",
    "while asset_activated == False:\n",
    "    \n",
    "    # Get asset and its activation status\n",
    "    assets = client.get_assets(item).get()\n",
    "    asset = assets.get('analytic_sr')\n",
    "    asset_status = asset[\"status\"]\n",
    "    \n",
    "    # If asset is already active, we are done\n",
    "    if asset_status == 'active':\n",
    "        asset_activated = True\n",
    "        print(\"Asset is active and ready to download\")\n",
    "   \n",
    "    # Still activating. Wait and check again.\n",
    "    else:\n",
    "        print(\"...Still waiting for asset activation...\")\n",
    "        time.sleep(3)"
   ]
  },
  {
   "cell_type": "markdown",
   "metadata": {},
   "source": [
    "Paso 7, bajar las imagenes"
   ]
  },
  {
   "cell_type": "code",
   "execution_count": 16,
   "metadata": {},
   "outputs": [
    {
     "data": {
      "text/plain": [
       "<planet.api.models.Body at 0x31cbbf0>"
      ]
     },
     "execution_count": 16,
     "metadata": {},
     "output_type": "execute_result"
    }
   ],
   "source": [
    "callback = api.write_to_file(directory=DIR, callback= None, overwrite= True)\n",
    "body = client.download(assets['analytic_sr'], callback=callback)\n",
    "body.await()"
   ]
  }
 ],
 "metadata": {
  "kernelspec": {
   "display_name": "Python 3",
   "language": "python",
   "name": "python3"
  },
  "language_info": {
   "codemirror_mode": {
    "name": "ipython",
    "version": 3
   },
   "file_extension": ".py",
   "mimetype": "text/x-python",
   "name": "python",
   "nbconvert_exporter": "python",
   "pygments_lexer": "ipython3",
   "version": "3.6.4"
  }
 },
 "nbformat": 4,
 "nbformat_minor": 2
}
