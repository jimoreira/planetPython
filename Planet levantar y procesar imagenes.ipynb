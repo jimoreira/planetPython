{
 "cells": [
  {
   "cell_type": "markdown",
   "metadata": {},
   "source": [
    "# Lectura y procesamiento de imagenes\n",
    "\n",
    "Lee una serie de imagenes guardadas en un lugar especifico y las procesa"
   ]
  },
  {
   "cell_type": "code",
   "execution_count": null,
   "metadata": {},
   "outputs": [],
   "source": [
    "import rasterio\n",
    "import os\n",
    "from osgeo import gdal\n",
    "import matplotlib.pyplot as plt\n",
    "import matplotlib.image as mpimg\n",
    "import numpy as np\n",
    "import pandas as pd\n"
   ]
  },
  {
   "cell_type": "code",
   "execution_count": null,
   "metadata": {},
   "outputs": [],
   "source": [
    "#set the path to the dir of the images\n",
    "path='D:/javie/Descargas/'\n",
    "os.chdir(path)\n",
    "print(os.getcwd())\n",
    "\n",
    "def load_image4(filename):\n",
    "    \"\"\"Return a 4D (r, g, b, nir) numpy array with the data in the specified TIFF filename.\"\"\"\n",
    "    with rasterio.open(filename) as src:\n",
    "        b, g, r, nir = src.read()\n",
    "        return np.dstack([r, g, b, nir])\n",
    "\n",
    "def get_mask(filename):\n",
    "    \"\"\"Return a 1D mask numpy array with the data in the specified TIFF filename.\"\"\"\n",
    "    with rasterio.open(filename) as src:\n",
    "        b,g,r,mask = src.read()\n",
    "        return np.dstack([mask])"
   ]
  },
  {
   "cell_type": "code",
   "execution_count": null,
   "metadata": {},
   "outputs": [],
   "source": [
    "##leer archivo \"downloaded\" creado en script anterior\n",
    "#decargas=open('downloaded','r')\n",
    "#print(descargas)\n",
    "#completar -date con la que se quiera\n",
    "with open('downloaded_210318.csv','r')as desc:\n",
    "    descargas=desc.read()\n",
    "    print(descargas)\n",
    "    \n",
    "    img_files = []\n",
    "    masks = []\n",
    "    # load the images and masks\n",
    "    for fname in descargas:\n",
    "        img_files.append(load_image4(fname))\n",
    "        print(img_files)\n",
    "        masks.append(get_mask(fname))\n",
    "    i = 0\n",
    "    # use matplotlib to display the map\n",
    "    for img,name in zip(img_files,descargas):\n",
    "        plt.figure(i,figsize=(18,36))\n",
    "        plt.imshow(img)\n",
    "        plt.title(name)\n",
    "        i+=1"
   ]
  },
  {
   "cell_type": "code",
   "execution_count": null,
   "metadata": {},
   "outputs": [],
   "source": []
  },
  {
   "cell_type": "code",
   "execution_count": null,
   "metadata": {},
   "outputs": [],
   "source": []
  }
 ],
 "metadata": {
  "kernelspec": {
   "display_name": "Python 3",
   "language": "python",
   "name": "python3"
  },
  "language_info": {
   "codemirror_mode": {
    "name": "ipython",
    "version": 3
   },
   "file_extension": ".py",
   "mimetype": "text/x-python",
   "name": "python",
   "nbconvert_exporter": "python",
   "pygments_lexer": "ipython3",
   "version": "3.6.4"
  }
 },
 "nbformat": 4,
 "nbformat_minor": 2
}
