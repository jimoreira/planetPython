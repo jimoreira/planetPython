{
 "cells": [
  {
   "cell_type": "markdown",
   "metadata": {},
   "source": [
    "# Lectura y procesamiento de imagenes\n",
    "\n",
    "Lee una serie de imagenes guardadas en un lugar especifico y las procesa"
   ]
  },
  {
   "cell_type": "code",
   "execution_count": null,
   "metadata": {},
   "outputs": [],
   "source": [
    "import rasterio\n",
    "import os\n",
    "from osgeo import gdal\n",
    "import matplotlib.pyplot as plt\n",
    "import matplotlib.image as mpimg\n",
    "import numpy as np\n",
    "import pandas as pd\n"
   ]
  },
  {
   "cell_type": "code",
   "execution_count": null,
   "metadata": {},
   "outputs": [],
   "source": [
    "#set the path to the dir of the images\n",
    "def load_image4(filename):\n",
    "    \"\"\"Return ndvi ##a 4D (r, g, b, nir)## numpy array with the data in the specified TIFF filename.\"\"\"\n",
    "    if os.path.exists(filename):\n",
    "        with rasterio.open(filename) as src:\n",
    "            b, g, r, nir = src.read()\n",
    "            np.seterr(divide='ignore', invalid='ignore')\n",
    "            ndvi = (nir.astype(float) - r.astype(float)) / (nir + r)\n",
    "            return ndvi \n",
    "            #np.dstack([r, g, b, nir])\n",
    "\n",
    "def get_mask(filename):\n",
    "    \"\"\"Return a 1D mask numpy array with the data in the specified TIFF filename.\"\"\"\n",
    "    if os.path.exists(filename):\n",
    "        with rasterio.open(filename) as source:\n",
    "            mask = source.read(1)\n",
    "            return mask"
   ]
  },
  {
   "cell_type": "code",
   "execution_count": null,
   "metadata": {},
   "outputs": [],
   "source": [
    "##leer archivo \"downloaded\" creado en script anterior\n",
    "#por ej:  2018_03_23_1332_downloaded.txt\n",
    "import re\n",
    "\n",
    "path='D:/javie/Descargas/'\n",
    "os.chdir(path)\n",
    "print(os.getcwd())\n",
    "\n",
    "fname = input(\"Enter file name: \")\n",
    "file = open(fname, 'r') \n",
    "file= file.readlines()\n",
    "filest=[]\n",
    "for line in file:\n",
    "    line=line.rstrip()\n",
    "    num=re.split('(\\D+)', line,1)\n",
    "    #print(num)\n",
    "    filest.append(num[2])\n",
    "print(filest)\n",
    "#print(path)"
   ]
  },
  {
   "cell_type": "code",
   "execution_count": null,
   "metadata": {
    "scrolled": true
   },
   "outputs": [],
   "source": [
    "img_files = []\n",
    "masks_files=[]\n",
    "masks = []\n",
    "listimg=[]\n",
    "path_or=path\n",
    "print(path_or)\n",
    "# load the images\n",
    "for folders in filest[0:2]:\n",
    "    fileid=folders[0:21]\n",
    "    #print(fileid)\n",
    "    filetale = '3B_AnalyticMS_SR_clip.tif'\n",
    "    compfile=(fileid+filetale)\n",
    "    #print(compfile)\n",
    "    listimg.append(compfile)\n",
    "    path1 = os.path.join(path_or,folders, compfile)\n",
    "    img_files.append(load_image4(path1))\n",
    "    ##the same with the mask file##\n",
    "    masktale = '3B_AnalyticMS_DN_udm_clip.tif'\n",
    "    compfile2=(fileid+masktale)\n",
    "    masks.append(compfile2)\n",
    "    path2 = os.path.join(path_or,folders, compfile2)\n",
    "    masks_files.append(get_mask(path2))\n",
    "print(listimg)\n",
    "print(masks)\n",
    "    \n",
    "    \n",
    "# use matplotlib to display the ndvi map\n",
    "i = 0    \n",
    "for ndvi,name in zip(img_files,listimg):\n",
    "    #print(ndvi)\n",
    "    plt.figure(i,figsize=(9,18))\n",
    "    plt.imshow(ndvi)\n",
    "    plt.title(name)\n",
    "    i+=1\n"
   ]
  },
  {
   "cell_type": "markdown",
   "metadata": {},
   "source": [
    "## una vez teniendo los np arrey se filran los que tienen nubes y se genera un stack de ndvi\n",
    "* filtrar imagenes usando mask, la que tiene nubes~afuera\n",
    "* obtener numpy arrays para cada fecha ok con ndvi\n",
    "* combinar arrays en dstack con diferentes fechas, nombrar los ndvi por archivo origen  \n"
   ]
  },
  {
   "cell_type": "code",
   "execution_count": null,
   "metadata": {},
   "outputs": [],
   "source": [
    "ndvi_ok=[]\n",
    "i=0\n",
    "for ndvi,mask,name in zip(img_files,masks_files,listimg):\n",
    "    try:\n",
    "        x=(ndvi*mask)/2\n",
    "        #print(x)\n",
    "        plt.imshow(x)\n",
    "        i+=1\n",
    "        print(i)\n",
    "        ndvi_ok.append(ndvi)\n",
    "        stack=np.dstack(ndvi_ok)\n",
    "    except:\n",
    "        print('seguimos..')\n",
    "        quit()\n",
    "#print(stack)"
   ]
  },
  {
   "cell_type": "markdown",
   "metadata": {},
   "source": [
    "## Pasar al area del ensayo\n",
    "\n",
    "* obtener en un panda df el promedio de cada parcela para cada fecha\n",
    "* graficar evolucion de ndvi "
   ]
  },
  {
   "cell_type": "code",
   "execution_count": 6,
   "metadata": {},
   "outputs": [
    {
     "data": {
      "text/plain": [
       "'0.13.1'"
      ]
     },
     "execution_count": 6,
     "metadata": {},
     "output_type": "execute_result"
    }
   ],
   "source": [
    "import skimage\n",
    "import scipy\n",
    "#np.__version__\n",
    "skimage.__version__\n",
    "#scipy.__version__"
   ]
  }
 ],
 "metadata": {
  "kernelspec": {
   "display_name": "Python 3",
   "language": "python",
   "name": "python3"
  },
  "language_info": {
   "codemirror_mode": {
    "name": "ipython",
    "version": 3
   },
   "file_extension": ".py",
   "mimetype": "text/x-python",
   "name": "python",
   "nbconvert_exporter": "python",
   "pygments_lexer": "ipython3",
   "version": "3.6.4"
  }
 },
 "nbformat": 4,
 "nbformat_minor": 2
}
